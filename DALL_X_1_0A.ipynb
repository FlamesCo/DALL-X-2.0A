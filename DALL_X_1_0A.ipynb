{
  "cells": [
    {
      "cell_type": "markdown",
      "metadata": {
        "id": "view-in-github",
        "colab_type": "text"
      },
      "source": [
        "<a href=\"https://colab.research.google.com/github/FlamesLLC/DALL-X-2.0A/blob/main/DALL_X_1_0A.ipynb\" target=\"_parent\"><img src=\"https://colab.research.google.com/assets/colab-badge.svg\" alt=\"Open In Colab\"/></a>"
      ]
    },
    {
      "cell_type": "markdown",
      "metadata": {
        "id": "118UKH5bWCGa"
      },
      "source": [
        " \n",
        "\n",
        "### <center>Use this notebook to run your DALL-X server</center>\n",
        " "
      ]
    },
    {
      "cell_type": "markdown",
      "metadata": {
        "id": "dS8LbaonYm3a"
      },
      "source": [
        "## Install dependencies"
      ]
    },
    {
      "cell_type": "code",
      "execution_count": null,
      "metadata": {
        "id": "MyO_o-lTQn2A"
      },
      "outputs": [],
      "source": [
        "!git clone https://github.com/saharmor/dalle-playground.git\n",
        "!pip install -r dalle-playground/backend/requirements.txt\n",
        "!npm install -g localtunnel"
      ]
    },
    {
      "cell_type": "markdown",
      "metadata": {
        "id": "itw9hJxfl1bJ"
      },
      "source": [
        "## Choose a model\n",
        "\n",
        "* **DALL-E Mini**\n",
        "  * The original DALL-E Mini. Fastest yet suboptimal results\n",
        "  * Runs well on a 4GB GPU and the Google Colab free tier\n",
        "* **DALL-E Mega**\n",
        "  * The advanced version of DALL-E Mini. Requires more compute and VRAM\n",
        "  * Runs well on a 8GB GPU and recommended on the Google Colab Pro tier\n",
        "* **DALL-E Mega Full**\n",
        "  * The most performant DALL-E version. Requires significantly more computre and VRAM\n",
        "  * Runs well on a 12GB GPU and recommended on the Google Colab Pro+ tier\n"
      ]
    },
    {
      "cell_type": "code",
      "execution_count": null,
      "metadata": {
        "cellView": "form",
        "id": "BKmwZUHcl1bK"
      },
      "outputs": [],
      "source": [
        "#@title Select a model - remember to execute cell after selecting!\n",
        "\n",
        "dalle_model = 'Mega_full' #@param [\"Mini\", \"Mega\", \"Mega_full\"]"
      ]
    },
    {
      "cell_type": "markdown",
      "source": [
        "# Run the backend web server"
      ],
      "metadata": {
        "id": "sqF_iNGmmVIC"
      }
    },
    {
      "cell_type": "code",
      "execution_count": null,
      "metadata": {
        "id": "qrRYWN7qTioY"
      },
      "outputs": [],
      "source": [
        "from threading import Thread\n",
        "\n",
        "def app():\n",
        "  print(f\"Selected DALL-E Model - [{dalle_model}]\")\n",
        "  !python dalle-playground/backend/app.py 8000 $dalle_model\n",
        "\n",
        "if __name__ == '__main__':\n",
        "    t1 = Thread(target = app)\n",
        "    a = t1.start()\n",
        "    !lt --port 8000"
      ]
    },
    {
      "cell_type": "markdown",
      "metadata": {
        "id": "UPhc5fgqT_Q0"
      },
      "source": [
        "### Now, take the url you got from localtunnel (should look like `your url is: https://xxxxxx.loca.lt`), replace it within the url here https://saharmor.github.io/dalle-playground/?backendUrl=https://xxxxxx.loca.lt and run it in the browser. \n",
        "\n",
        "### Let the fun begin ✨"
      ]
    }
  ],
  "metadata": {
    "accelerator": "GPU",
    "colab": {
      "collapsed_sections": [],
      "machine_shape": "hm",
      "name": "DALL-X 1.0A",
      "provenance": [],
      "include_colab_link": true
    },
    "kernelspec": {
      "display_name": "Python 3",
      "name": "python3"
    },
    "language_info": {
      "name": "python"
    }
  },
  "nbformat": 4,
  "nbformat_minor": 0
}